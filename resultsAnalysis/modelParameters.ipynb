{
 "cells": [
  {
   "attachments": {},
   "cell_type": "markdown",
   "metadata": {},
   "source": [
    "Notebook used for determining the parameters of the different networks"
   ]
  },
  {
   "cell_type": "code",
   "execution_count": 2,
   "metadata": {},
   "outputs": [
    {
     "name": "stdout",
     "output_type": "stream",
     "text": [
      "c:\\Users\\ikke_\\OneDrive\\Documenten\\Thesis\\MasterThesis\\Code\n",
      "\n",
      "\n",
      "Please cite the following paper when using nnUNet:\n",
      "\n",
      "Isensee, F., Jaeger, P.F., Kohl, S.A.A. et al. \"nnU-Net: a self-configuring method for deep learning-based biomedical image segmentation.\" Nat Methods (2020). https://doi.org/10.1038/s41592-020-01008-z\n",
      "\n",
      "\n",
      "If you have questions or suggestions, feel free to open an issue at https://github.com/MIC-DKFZ/nnUNet\n",
      "\n",
      "nnUNet_raw_data_base is not defined and nnU-Net can only be used on data for which preprocessed files are already present on your system. nnU-Net cannot be used for experiment planning and preprocessing like this. If this is not intended, please read documentation/setting_up_paths.md for information on how to set this up properly.\n",
      "nnUNet_preprocessed is not defined and nnU-Net can not be used for preprocessing or training. If this is not intended, please read documentation/setting_up_paths.md for information on how to set this up.\n",
      "RESULTS_FOLDER is not defined and nnU-Net cannot be used for training or inference. If this is not intended behavior, please read documentation/setting_up_paths.md for information on how to set this up.\n"
     ]
    },
    {
     "name": "stderr",
     "output_type": "stream",
     "text": [
      "C:\\Users\\ikke_\\AppData\\Local\\Temp\\ipykernel_14464\\968664853.py:15: DeprecationWarning: `magic(...)` is deprecated since IPython 0.13 (warning added in 8.1), use run_line_magic(magic_name, parameter_s).\n",
      "  ip.magic(\"reload_ext autoreload\")  # these will enable module autoreloading\n",
      "C:\\Users\\ikke_\\AppData\\Local\\Temp\\ipykernel_14464\\968664853.py:16: DeprecationWarning: `magic(...)` is deprecated since IPython 0.13 (warning added in 8.1), use run_line_magic(magic_name, parameter_s).\n",
      "  ip.magic(\"autoreload 2\")\n"
     ]
    }
   ],
   "source": [
    "import sys\n",
    "import os\n",
    "module_path = os.path.abspath(os.path.join('..'))\n",
    "print(module_path)\n",
    "if module_path not in sys.path:\n",
    "    sys.path.append(module_path)\n",
    "\n",
    "import torch\n",
    "from nnunet.training.network_training import nnUNetTrainerV2, nnUNetTrainerV2_Hybrid, nnUNetTrainerV2_UNETR\n",
    "# magical autoreload\n",
    "from IPython import get_ipython\n",
    "\n",
    "os.environ[\"PATH\"] += os.pathsep + 'C:/Users/ikke_/anaconda3/envs/thesis/Library/bin/graphviz'\n",
    "ip = get_ipython()\n",
    "ip.magic(\"reload_ext autoreload\")  # these will enable module autoreloading\n",
    "ip.magic(\"autoreload 2\")\n",
    "\n",
    "## CONSTANTS\n",
    "BASE_NUM_FEATURES = 32\n",
    "TMP_PATH = \"C:/Users/ikke_/OneDrive/Documenten/Thesis/tmp/dummyNN/\"\n",
    "PREPROCESSED_DATA_DIR = f\"C:/Users/ikke_/OneDrive/Documenten/Thesis/Data/nnUNet_preprocessed\"\n",
    "OUTPUT_FOLDER = f\"C:/Users/ikke_/OneDrive/Documenten/Thesis/MasterThesis/Latex/Figures/\"\n",
    "FOLD = \"all\"\n",
    "NUM_INPUT_CHANNELS = 1\n",
    "STAGE = 0\n"
   ]
  },
  {
   "cell_type": "code",
   "execution_count": 3,
   "metadata": {},
   "outputs": [
    {
     "name": "stdout",
     "output_type": "stream",
     "text": [
      "Img size: [ 80 192 160]\n",
      "Patch size: (16, 16, 16)\n",
      "Feature size: (5, 12, 10)\n",
      "Img size: [ 80 192 160]\n",
      "Patch size: (16, 16, 16)\n",
      "Feature size: (5, 12, 10)\n",
      "Img size: [ 80 192 160]\n",
      "Patch size: (16, 16, 16)\n",
      "Feature size: (5, 12, 10)\n",
      "501\n",
      "nnU-Net has 30785184\n",
      "nnUNETR has 100584320\n",
      "nnUNETR small has 100584320\n",
      "nnUNETR unetr has 92746978\n",
      "Img size: [ 64 192 192]\n",
      "Patch size: (16, 16, 16)\n",
      "Feature size: (4, 12, 12)\n",
      "Img size: [ 64 192 192]\n",
      "Patch size: (16, 16, 16)\n",
      "Feature size: (4, 12, 12)\n",
      "Img size: [ 64 192 192]\n",
      "Patch size: (16, 16, 16)\n",
      "Feature size: (4, 12, 12)\n",
      "510\n",
      "nnU-Net has 30785184\n",
      "nnUNETR has 100565888\n",
      "nnUNETR small has 100565888\n",
      "nnUNETR unetr has 92728546\n",
      "Img size: [ 96 160 160]\n",
      "Patch size: (16, 16, 16)\n",
      "Feature size: (6, 10, 10)\n",
      "Img size: [ 96 160 160]\n",
      "Patch size: (16, 16, 16)\n",
      "Feature size: (6, 10, 10)\n",
      "Img size: [ 96 160 160]\n",
      "Patch size: (16, 16, 16)\n",
      "Feature size: (6, 10, 10)\n",
      "525\n",
      "nnU-Net has 30785184\n",
      "nnUNETR has 100584320\n",
      "nnUNETR small has 100584320\n",
      "nnUNETR unetr has 92746978\n"
     ]
    }
   ],
   "source": [
    "for task in [\"501\", \"510\", \"525\"]:\n",
    "    PLANS_FILE = f\"{TMP_PATH}{task}_nnUNetPlansv2.1_plans_3D.pkl\"  # most important! for network\n",
    "    #Classical trainer\n",
    "    trainer = nnUNetTrainerV2.nnUNetTrainerV2(PLANS_FILE, FOLD, OUTPUT_FOLDER, PREPROCESSED_DATA_DIR)\n",
    "    trainer.num_input_channels = NUM_INPUT_CHANNELS\n",
    "    trainer.base_num_features = BASE_NUM_FEATURES\n",
    "    trainer.stage = STAGE\n",
    "    trainer.initialize(False, True)\n",
    "    trainer.network.eval()\n",
    "\n",
    "    # Hybrid trainer \n",
    "    trainer_hybrid = nnUNetTrainerV2_Hybrid.nnUNetTrainerV2_Hybrid(PLANS_FILE, FOLD, OUTPUT_FOLDER, PREPROCESSED_DATA_DIR)\n",
    "    trainer_hybrid.num_input_channels = NUM_INPUT_CHANNELS\n",
    "    trainer_hybrid.base_num_features = BASE_NUM_FEATURES\n",
    "    trainer_hybrid.stage = STAGE\n",
    "    trainer_hybrid.initialize(False, True)\n",
    "    trainer_hybrid.network.eval()\n",
    "\n",
    "    # Unetr trainer\n",
    "    trainer_unetr = nnUNetTrainerV2_UNETR.nnUNetTrainerV2_UNETR(PLANS_FILE, FOLD, OUTPUT_FOLDER, PREPROCESSED_DATA_DIR)\n",
    "    trainer_unetr.num_input_channels = NUM_INPUT_CHANNELS\n",
    "    trainer_unetr.base_num_features = BASE_NUM_FEATURES\n",
    "    trainer_unetr.stage = STAGE\n",
    "    trainer_unetr.initialize(False, True)\n",
    "    trainer_unetr.network.eval()\n",
    "\n",
    "    # Small Hybrid trainer \n",
    "    trainer_hybrid_small = nnUNetTrainerV2_Hybrid.nnUNetTrainerV2_Hybrid(PLANS_FILE, FOLD, OUTPUT_FOLDER, PREPROCESSED_DATA_DIR)\n",
    "    trainer_hybrid_small.num_input_channels = NUM_INPUT_CHANNELS\n",
    "    trainer_hybrid_small.base_num_features = BASE_NUM_FEATURES\n",
    "    trainer_hybrid_small.stage = STAGE\n",
    "    trainer_hybrid_small.initialize(False, True)\n",
    "    trainer_hybrid_small.network.eval()\n",
    "\n",
    "    def count_parameters(model):\n",
    "        return sum(p.numel() for p in model.parameters() if p.requires_grad)\n",
    "\n",
    "    print(task)\n",
    "    print(f\"nnU-Net has {count_parameters(trainer.network)}\")\n",
    "    print(f\"nnUNETR has {count_parameters(trainer_hybrid.network)}\")\n",
    "    print(f\"nnUNETR small has {count_parameters(trainer_hybrid_small.network)}\")\n",
    "    print(f\"nnUNETR unetr has {count_parameters(trainer_unetr.network)}\")"
   ]
  },
  {
   "cell_type": "code",
   "execution_count": 4,
   "metadata": {},
   "outputs": [
    {
     "name": "stdout",
     "output_type": "stream",
     "text": [
      "2023-02-12 14:54:43.834809: Using dummy2d data augmentation\n",
      "610\n",
      "nnU-Net has 45002208\n",
      "2023-02-12 14:54:44.414939: Using dummy2d data augmentation\n",
      "611\n",
      "nnU-Net has 45002208\n",
      "2023-02-12 14:54:44.940055: Using dummy2d data augmentation\n",
      "612\n",
      "nnU-Net has 45002208\n",
      "525\n",
      "nnU-Net has 30785184\n",
      "526\n",
      "nnU-Net has 30794784\n",
      "527\n",
      "nnU-Net has 30787584\n"
     ]
    }
   ],
   "source": [
    "for task in [\"610\", \"611\", \"612\", \"525\", \"526\", \"527\"]:\n",
    "    PLANS_FILE = f\"{TMP_PATH}{task}_nnUNetPlansv2.1_plans_3D.pkl\"  # most important! for network\n",
    "    # Classical trainer\n",
    "    trainer = nnUNetTrainerV2.nnUNetTrainerV2(PLANS_FILE, FOLD, OUTPUT_FOLDER, PREPROCESSED_DATA_DIR)\n",
    "    trainer.num_input_channels = NUM_INPUT_CHANNELS\n",
    "    trainer.base_num_features = BASE_NUM_FEATURES\n",
    "    trainer.stage = STAGE\n",
    "    trainer.initialize(False, True)\n",
    "    trainer.network.eval()\n",
    "\n",
    "    # Model parameters\n",
    "    def count_parameters(model):\n",
    "        return sum(p.numel() for p in model.parameters() if p.requires_grad)\n",
    "\n",
    "    print(task)\n",
    "    print(f\"nnU-Net has {count_parameters(trainer.network)}\")"
   ]
  }
 ],
 "metadata": {
  "kernelspec": {
   "display_name": "Python 3.8.13 ('thesis')",
   "language": "python",
   "name": "python3"
  },
  "language_info": {
   "codemirror_mode": {
    "name": "ipython",
    "version": 3
   },
   "file_extension": ".py",
   "mimetype": "text/x-python",
   "name": "python",
   "nbconvert_exporter": "python",
   "pygments_lexer": "ipython3",
   "version": "3.8.13"
  },
  "orig_nbformat": 4,
  "vscode": {
   "interpreter": {
    "hash": "b125ce43c943fc1e14d9f62c3fffee4d275810a249a66947a8c399f2b69c2ea4"
   }
  }
 },
 "nbformat": 4,
 "nbformat_minor": 2
}
