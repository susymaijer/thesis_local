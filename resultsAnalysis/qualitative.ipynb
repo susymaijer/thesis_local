{
 "cells": [
  {
   "cell_type": "code",
   "execution_count": 11,
   "metadata": {},
   "outputs": [
    {
     "name": "stdout",
     "output_type": "stream",
     "text": [
      "c:\\Users\\ikke_\\OneDrive\\Documenten\\Thesis\\MasterThesis\\Code\n"
     ]
    }
   ],
   "source": [
    "import os\n",
    "import sys\n",
    "import matplotlib.pyplot as plt\n",
    "import pandas as pd\n",
    "import numpy as np\n",
    "import json\n",
    "module_path = os.path.abspath(os.path.join('..'))\n",
    "print(module_path)\n",
    "if module_path not in sys.path:\n",
    "    sys.path.append(module_path)\n",
    "from util import management as mana\n",
    "from util import constants as con\n",
    "from util import data\n",
    "\n",
    "def load_summary_dices_data_dict(path):\n",
    "    summary = data.load_summary_data(path)\n",
    "\n",
    "    # Load data\n",
    "    dices = []\n",
    "    for val in summary:\n",
    "        dice = val[\"1\"][\"Dice\"] # pancreas label == 1\n",
    "        ref = val[\"reference\"].split(\"/\")[-1]\n",
    "        dices.append((ref, dice))\n",
    "    return dices\n",
    "\n",
    "def get_worst(equal, not_equal, task, config, trainer, checkVal=False, amount=10):\n",
    "    # Load data\n",
    "    if checkVal:\n",
    "        path, _ = data.get_results_validation_and_test_paths(con.RESULTS_DIR, task, config, trainer) \n",
    "    else:\n",
    "        _, path = data.get_results_validation_and_test_paths(con.RESULTS_DIR, task, config, trainer) \n",
    "\n",
    "    # get summary.json\n",
    "    summary = data.load_summary_data(path)\n",
    "\n",
    "    # Load data\n",
    "    res = []\n",
    "    for val in summary:\n",
    "        dice = val[\"1\"][\"Dice\"] # pancreas label == 1\n",
    "        ref = val[\"reference\"].split(\"/\")[-1]\n",
    "        res.append((ref, dice))\n",
    "\n",
    "    # Print the 10 worst\n",
    "    res.sort(key=lambda s: s[1])\n",
    "    worst = [i[0] for i in res][:amount]\n",
    "    if len(equal) == 0:\n",
    "        equal.update(worst)\n",
    "    else:\n",
    "        not_equal.update(equal.symmetric_difference(set(worst)))\n",
    "        equal = equal.intersection(worst)\n",
    "    return equal, not_equal"
   ]
  },
  {
   "cell_type": "markdown",
   "metadata": {},
   "source": [
    "Experiment 1"
   ]
  },
  {
   "cell_type": "code",
   "execution_count": 4,
   "metadata": {},
   "outputs": [
    {
     "name": "stdout",
     "output_type": "stream",
     "text": [
      "501\n",
      "['panc_0001.nii.gz', 'panc_0009.nii.gz', 'panc_0033.nii.gz', 'panc_0041.nii.gz', 'panc_0049.nii.gz', 'panc_0065.nii.gz', 'panc_0073.nii.gz', 'panc_0081.nii.gz', 'panc_0082.nii.gz']\n",
      "['panc_0017.nii.gz', 'panc_0026.nii.gz']\n",
      "\n",
      "510\n",
      "['panc_006.nii.gz', 'panc_012.nii.gz', 'panc_064.nii.gz', 'panc_071.nii.gz', 'panc_099.nii.gz', 'panc_145.nii.gz', 'panc_334.nii.gz', 'panc_346.nii.gz']\n",
      "['panc_042.nii.gz', 'panc_092.nii.gz', 'panc_213.nii.gz', 'panc_218.nii.gz', 'panc_391.nii.gz']\n",
      "\n"
     ]
    }
   ],
   "source": [
    "trainer = con.CLASSIC\n",
    "folds = [0,1,2,3,4]\n",
    "labels = [1]\n",
    "\n",
    "for task in [con.TASK_501, con.TASK_510]:\n",
    "    equal = set()\n",
    "    not_equal = set()\n",
    "    for config in [con.CONFIG_LOW, con.CONFIG_CAS_FULL, con.CONFIG_FULL]:\n",
    "        equal, not_equal = get_worst(equal, not_equal, task, config, trainer)\n",
    "\n",
    "    # Add cropping\n",
    "    equal, not_equal = get_worst(equal, not_equal, con.CROP_TASK_MAPPING[task], con.CONFIG_FULL, trainer)\n",
    "\n",
    "    # Final result\n",
    "    print(task)\n",
    "    print(sorted(equal))\n",
    "    print(sorted(not_equal))\n",
    "    print()"
   ]
  },
  {
   "cell_type": "markdown",
   "metadata": {},
   "source": [
    "Experiment 2"
   ]
  },
  {
   "cell_type": "code",
   "execution_count": 12,
   "metadata": {},
   "outputs": [
    {
     "name": "stdout",
     "output_type": "stream",
     "text": [
      "525\n",
      "['panc_0004.nii.gz', 'panc_0007.nii.gz', 'panc_0023.nii.gz', 'panc_0025.nii.gz']\n",
      "[]\n",
      "\n",
      "526\n",
      "['panc_0001.nii.gz', 'panc_0007.nii.gz', 'panc_0009.nii.gz']\n",
      "['panc_0004.nii.gz', 'panc_0026.nii.gz']\n",
      "\n",
      "527\n",
      "['panc_0009.nii.gz', 'panc_0025.nii.gz']\n",
      "['panc_0004.nii.gz', 'panc_0007.nii.gz', 'panc_0023.nii.gz', 'panc_0026.nii.gz']\n",
      "\n"
     ]
    }
   ],
   "source": [
    "config = con.CONFIG_FULL\n",
    "folds = [0,1,2,3,4]\n",
    "labels = [1]\n",
    "\n",
    "for task in [con.TASK_525, con.TASK_526, con.TASK_527]:\n",
    "    equal = set()\n",
    "    not_equal = set()\n",
    "    for trainer in [con.CLASSIC, con.WEIGHT01, con.WEIGHT05, con.WEIGHT09]:\n",
    "        if task == con.TASK_525 and trainer != con.CLASSIC:\n",
    "            continue\n",
    "        equal, not_equal = get_worst(equal, not_equal, task, config, trainer, checkVal=True, amount=4)\n",
    "\n",
    "    # Final result\n",
    "    print(task)\n",
    "    print(sorted(equal))\n",
    "    print(sorted(not_equal))\n",
    "    print()"
   ]
  }
 ],
 "metadata": {
  "kernelspec": {
   "display_name": "Python 3.8.13 ('thesis')",
   "language": "python",
   "name": "python3"
  },
  "language_info": {
   "codemirror_mode": {
    "name": "ipython",
    "version": 3
   },
   "file_extension": ".py",
   "mimetype": "text/x-python",
   "name": "python",
   "nbconvert_exporter": "python",
   "pygments_lexer": "ipython3",
   "version": "3.8.13"
  },
  "orig_nbformat": 4,
  "vscode": {
   "interpreter": {
    "hash": "b125ce43c943fc1e14d9f62c3fffee4d275810a249a66947a8c399f2b69c2ea4"
   }
  }
 },
 "nbformat": 4,
 "nbformat_minor": 2
}
