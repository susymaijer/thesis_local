{
 "cells": [
  {
   "attachments": {},
   "cell_type": "markdown",
   "metadata": {},
   "source": [
    "Shorthand notebook to create a submission to AMOS"
   ]
  },
  {
   "cell_type": "code",
   "execution_count": 4,
   "metadata": {},
   "outputs": [],
   "source": [
    "import os\n",
    "import shutil\n",
    "import sys\n",
    "module_path = os.path.abspath(os.path.join('..'))\n",
    "if module_path not in sys.path:\n",
    "    sys.path.append(module_path)\n",
    "from util import constants as con\n",
    "\n",
    "# Set task specifics\n",
    "TASK = con.TASK_700\n",
    "TRAINER = con.HYBRID\n",
    "\n",
    "# Get paths\n",
    "THESIS_PATH = con.THESIS_PATH\n",
    "AMOS_PATH = f\"{THESIS_PATH}/Results/AMOS/{TASK}/{TRAINER}\"\n",
    "SEG_PATH = f\"{THESIS_PATH}/Results/{TASK}/3d_fullres/{TRAINER}/inference/{TASK}/imagesTs\"\n",
    "\n",
    "# Make AMOS directory\n",
    "if not os.path.exists(AMOS_PATH):\n",
    "    os.makedirs(AMOS_PATH)\n",
    "\n",
    "# Move every prediction to the AMOS segmentation path with the correct name\n",
    "for name in os.listdir(SEG_PATH):\n",
    "    if name.startswith(\"panc\"):\n",
    "        # Create AMOS mandatory name\n",
    "        new_seg_name = \"amos_\" + name.split(\"_\")[1]\n",
    "\n",
    "        # Move to submission folder with correct name\n",
    "        shutil.copy(os.path.join(SEG_PATH, name), os.path.join(AMOS_PATH, new_seg_name))"
   ]
  }
 ],
 "metadata": {
  "kernelspec": {
   "display_name": "Python 3.8.13 ('thesis')",
   "language": "python",
   "name": "python3"
  },
  "language_info": {
   "codemirror_mode": {
    "name": "ipython",
    "version": 3
   },
   "file_extension": ".py",
   "mimetype": "text/x-python",
   "name": "python",
   "nbconvert_exporter": "python",
   "pygments_lexer": "ipython3",
   "version": "3.8.13"
  },
  "orig_nbformat": 4,
  "vscode": {
   "interpreter": {
    "hash": "b125ce43c943fc1e14d9f62c3fffee4d275810a249a66947a8c399f2b69c2ea4"
   }
  }
 },
 "nbformat": 4,
 "nbformat_minor": 2
}
