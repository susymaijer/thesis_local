{
 "cells": [
  {
   "attachments": {},
   "cell_type": "markdown",
   "metadata": {},
   "source": [
    "This notebooks corrects the model predictions of the minimal and maximal model, due to a mistake I made in experiment 3 (multi-organ models).\n",
    "\n",
    "I did not change the labels of the BCV data-set, so the output predictions labelled the pancreas 3 instead of 1. This is no problem in itself, except that I have a lot of automatic scripts which went wrong because of it.\n",
    "\n",
    "So here, I change the predictions such that label 3 becomes label 1 and vice versa."
   ]
  },
  {
   "cell_type": "code",
   "execution_count": 5,
   "metadata": {},
   "outputs": [
    {
     "name": "stdout",
     "output_type": "stream",
     "text": [
      "c:\\Users\\ikke_\\OneDrive\\Documenten\\Thesis\\MasterThesis\\Code\n"
     ]
    }
   ],
   "source": [
    "import os\n",
    "import sys\n",
    "import matplotlib.pyplot as plt\n",
    "import pandas as pd\n",
    "import numpy as np\n",
    "import nibabel as nib \n",
    "module_path = os.path.abspath(os.path.join('..'))\n",
    "print(module_path)\n",
    "if module_path not in sys.path:\n",
    "    sys.path.append(module_path)\n",
    "from util import management as mana\n",
    "from util import constants as con\n",
    "\n",
    "# Set task specifics\n",
    "task = con.TASK_523\n",
    "pred_task = con.TASK_501\n",
    "config = con.CONFIG_FULL\n",
    "trainer = con.CLASSIC\n",
    "label_new = 1\n",
    "labels_old = 3\n",
    "ts_tr = \"Ts\"\n",
    "\n",
    "# Set paths \n",
    "results_dir = \"C:\\\\Users\\\\ikke_\\\\OneDrive\\\\Documenten\\\\Thesis\\\\Results\"\n",
    "res_path = os.path.join(results_dir, str(task), config, trainer, \"inference\", str(pred_task), f\"images{ts_tr}\")\n",
    "output_path = os.path.join(res_path, \"relabeled\")\n",
    "\n",
    "# Create relabeled directory\n",
    "if not(os.path.exists(output_path)):\n",
    "    os.mkdir(output_path)"
   ]
  },
  {
   "cell_type": "code",
   "execution_count": 6,
   "metadata": {},
   "outputs": [],
   "source": [
    "# Relabel each segmentation\n",
    "for f in [i for i in os.listdir(res_path) if i.endswith(\"nii.gz\")]:\n",
    "\n",
    "    # Load label\n",
    "    path = os.path.join(res_path, f)\n",
    "    label_niff = nib.load(path)\n",
    "    label = np.array(label_niff.dataobj)\n",
    "\n",
    "    # Make the 3 a 1\n",
    "    np.place(label, label == label_new, 999) # move current '1' to dummy\n",
    "    np.place(label, label == label_old, label_new) # move current '3' to '1'\n",
    "    np.place(label, label == 999, label_old) # move dummy to '3'\n",
    "\n",
    "    # Save\n",
    "    new_label = nib.Nifti1Image(label, label_niff.affine, label_niff.header)\n",
    "    nib.save(new_label, os.path.join(output_path, f))"
   ]
  }
 ],
 "metadata": {
  "kernelspec": {
   "display_name": "Python 3.8.13 ('thesis')",
   "language": "python",
   "name": "python3"
  },
  "language_info": {
   "codemirror_mode": {
    "name": "ipython",
    "version": 3
   },
   "file_extension": ".py",
   "mimetype": "text/x-python",
   "name": "python",
   "nbconvert_exporter": "python",
   "pygments_lexer": "ipython3",
   "version": "3.8.13"
  },
  "orig_nbformat": 4,
  "vscode": {
   "interpreter": {
    "hash": "b125ce43c943fc1e14d9f62c3fffee4d275810a249a66947a8c399f2b69c2ea4"
   }
  }
 },
 "nbformat": 4,
 "nbformat_minor": 2
}
