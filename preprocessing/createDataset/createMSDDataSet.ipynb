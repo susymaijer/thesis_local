{
 "cells": [
  {
   "attachments": {},
   "cell_type": "markdown",
   "metadata": {},
   "source": [
    "Create MSD data-set."
   ]
  },
  {
   "cell_type": "code",
   "execution_count": 1,
   "metadata": {},
   "outputs": [],
   "source": [
    "# standard stuff \n",
    "import os \n",
    "import sys\n",
    "\n",
    "# bespoke stuff\n",
    "module_path = os.path.abspath(os.path.join('../..'))\n",
    "if module_path not in sys.path:\n",
    "    sys.path.append(module_path)\n",
    "from util import constants as con\n",
    "from util import preprocess as pre\n",
    "\n",
    "# Task specifics\n",
    "task = con.TASK_511\n",
    "test_perc = 0.15\n",
    "modality = {\"0\": \"CT\"}\n",
    "labels =  {\"0\": \"background\", \"1\": \"pancreas\", \"2\": \"cancer\"}"
   ]
  },
  {
   "cell_type": "code",
   "execution_count": 2,
   "metadata": {},
   "outputs": [],
   "source": [
    "# paths\n",
    "TASK_NAME = f'Task{task}' \n",
    "BASE_DIR = \"C:/Users/ikke_/OneDrive/Documenten/Thesis\"\n",
    "MSD_DIR = f'{BASE_DIR}/Data/MSD'\n",
    "DATA_DIR = f\"{BASE_DIR}/Data/nnUNet_raw_data_base\"\n",
    "TASK_DIR = f\"{DATA_DIR}/nnUNet_raw_data/{TASK_NAME}\"\n",
    "TRAIN_DATA_DIR = f\"{TASK_DIR}/imagesTr\"\n",
    "TRAIN_LABEL_DIR = f\"{TASK_DIR}/labelsTr\"\n",
    "TEST_DATA_DIR = f\"{TASK_DIR}/imagesTs\"\n",
    "TEST_LABEL_DIR = f\"{TASK_DIR}/labelsTs\"\n"
   ]
  },
  {
   "attachments": {},
   "cell_type": "markdown",
   "metadata": {},
   "source": [
    "Create data-set"
   ]
  },
  {
   "cell_type": "code",
   "execution_count": 3,
   "metadata": {},
   "outputs": [
    {
     "name": "stdout",
     "output_type": "stream",
     "text": [
      "Create test set of 42 images (total: 281)\n",
      "Creating mask for organ label values: dict_keys(['0', '1', '2'])\n"
     ]
    }
   ],
   "source": [
    "pre.create_all_folders(TRAIN_DATA_DIR, TRAIN_LABEL_DIR, TEST_DATA_DIR, TEST_LABEL_DIR)\n",
    "test_filenames = pre.create_images(f'{MSD_DIR}/imagesTr', TRAIN_DATA_DIR, TEST_DATA_DIR, test_perc)\n",
    "pre.create_labels(test_filenames, f'{MSD_DIR}/labelsTr'_DIR, TRAIN_LABEL_DIR, TEST_LABEL_DIR, labels.keys())\n",
    "pre.generate_dataset_json(True, \"amos\", TASK_DIR, task, modality, labels, TRAIN_LABEL_DIR, TEST_LABEL_DIR)"
   ]
  }
 ],
 "metadata": {
  "interpreter": {
   "hash": "b125ce43c943fc1e14d9f62c3fffee4d275810a249a66947a8c399f2b69c2ea4"
  },
  "kernelspec": {
   "display_name": "Python 3.8.13 ('thesis')",
   "language": "python",
   "name": "python3"
  },
  "language_info": {
   "codemirror_mode": {
    "name": "ipython",
    "version": 3
   },
   "file_extension": ".py",
   "mimetype": "text/x-python",
   "name": "python",
   "nbconvert_exporter": "python",
   "pygments_lexer": "ipython3",
   "version": "3.8.13"
  },
  "orig_nbformat": 4
 },
 "nbformat": 4,
 "nbformat_minor": 2
}
