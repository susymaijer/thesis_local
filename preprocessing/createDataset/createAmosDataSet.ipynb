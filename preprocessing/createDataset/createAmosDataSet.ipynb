{
 "cells": [
  {
   "attachments": {},
   "cell_type": "markdown",
   "metadata": {},
   "source": [
    "Create an AMOS data-set. \n",
    "\n",
    "We have various possibilities, since AMOS contains both CT and MRI. Some tasks, we want MRI only, but other tasks CT only, and in other tasks we want all data."
   ]
  },
  {
   "cell_type": "code",
   "execution_count": 1,
   "metadata": {},
   "outputs": [],
   "source": [
    "# standard stuff \n",
    "import os \n",
    "import sys\n",
    "import nibabel as nib\n",
    "import numpy as np\n",
    "import shutil\n",
    "import random\n",
    "from collections import OrderedDict\n",
    "import json\n",
    "\n",
    "# bespoke stuff\n",
    "module_path = os.path.abspath(os.path.join('../..'))\n",
    "if module_path not in sys.path:\n",
    "    sys.path.append(module_path)\n",
    "from util import management as mana\n",
    "from util import preprocess as pre\n",
    "from util import constants as con\n",
    "\n",
    "##### Set task specifics\n",
    "task = con.TASK_700\n",
    "only_MRI = False\n",
    "only_CT = False\n",
    "test_perc = 0.15\n",
    "organ_labels =  {\"0\": \"background\", \"1\": \"spleen\", \"2\": \"right kidney\", \"3\": \"left kidney\", \"4\": \"gall bladder\",\n",
    "          \"5\": \"esophagus\", \"6\": \"liver\", \"7\": \"stomach\", \"8\": \"arota\", \"9\": \"postcava\", \"10\": \"pancreas\", \n",
    "           \"11\": \"right adrenal gland\", \"12\": \"left adrenal gland\", \"13\": \"duodenum\", \"14\": \"bladder\", \"15\": \"prostate/uterus\"}\n",
    "organ_labels_json =  {\"0\": \"background\", \"1\": \"spleen\", \"2\": \"right kidney\", \"3\": \"left kidney\", \"4\": \"gall bladder\",\n",
    "          \"5\": \"esophagus\", \"6\": \"liver\", \"7\": \"stomach\", \"8\": \"arota\", \"9\": \"postcava\", \"10\": \"pancreas\", \n",
    "           \"11\": \"right adrenal gland\", \"12\": \"left adrenal gland\", \"13\": \"duodenum\", \"14\": \"bladder\", \"15\": \"prostate/uterus\"}\n",
    "if only_MRI:\n",
    "    modality = {\"0\": \"MRI\"}\n",
    "elif only_CT:\n",
    "    modality = {\"0\": \"CT\"}\n",
    "else:\n",
    "    modality = {\"0\": \"CT\", \"1\": \"MRI\"}"
   ]
  },
  {
   "attachments": {},
   "cell_type": "markdown",
   "metadata": {},
   "source": [
    "Set paths and define some useful functions."
   ]
  },
  {
   "cell_type": "code",
   "execution_count": 2,
   "metadata": {},
   "outputs": [],
   "source": [
    "# Set paths\n",
    "TASK_NAME = f'Task{task}' \n",
    "BASE_DIR = \"C:/Users/ikke_/OneDrive/Documenten/Thesis\"\n",
    "AMOS_DIR = f'{BASE_DIR}/Data/amos/AMOS22'\n",
    "DATA_DIR = f\"{BASE_DIR}/Data/nnUNet_raw_data_base\"\n",
    "TASK_DIR = f\"{DATA_DIR}/nnUNet_raw_data/{TASK_NAME}\"\n",
    "TRAIN_DATA_DIR = f\"{TASK_DIR}/imagesTr\"\n",
    "TRAIN_LABEL_DIR = f\"{TASK_DIR}/labelsTr\"\n",
    "TEST_DATA_DIR = f\"{TASK_DIR}/imagesTs\"\n",
    "TEST_LABEL_DIR = f\"{TASK_DIR}/labelsTs\"\n",
    "\n",
    "def is_mri(file_name):\n",
    "    ''' '''\n",
    "    return \"_05\" in file_name or \"_06\" in file_name\n",
    "\n",
    "def get_filename_modality(file_name):\n",
    "    # either 1 modality, or multiple and not_MRI\n",
    "    if only_MRI or only_CT or not(is_mri(file_name)):\n",
    "        return \"0000\"\n",
    "    # muiltiple modalities, MRI\n",
    "    else:\n",
    "        return \"0001\"\n",
    "        \n",
    "def get_all_files(path):\n",
    "\n",
    "    # get the paths to all the files\n",
    "    files = [os.path.join(path, i) for i in os.listdir(path)]\n",
    "    all_files = files\n",
    "\n",
    "    # filter out the CT images or the MRI images\n",
    "    if only_MRI:\n",
    "        all_files = [f for f in all_files if is_mri(f)]\n",
    "    elif only_CT:\n",
    "        all_files = [f for f in all_files if not(is_mri(f))]\n",
    "\n",
    "    # return all files\n",
    "    return all_files"
   ]
  },
  {
   "attachments": {},
   "cell_type": "markdown",
   "metadata": {},
   "source": [
    "First, rename the labels to our desired name"
   ]
  },
  {
   "cell_type": "code",
   "execution_count": 4,
   "metadata": {},
   "outputs": [],
   "source": [
    "for f in os.listdir(TRAIN_LABEL_DIR):\n",
    "    f2 = 'panc_' + f.split('_')[1]\n",
    "    old = TRAIN_LABEL_DIR + '/' + f\n",
    "    new = TRAIN_LABEL_DIR + '/' + f2\n",
    "    os.rename(old, new)"
   ]
  },
  {
   "attachments": {},
   "cell_type": "markdown",
   "metadata": {},
   "source": [
    "Then we create the nnU-net tasks for the training data"
   ]
  },
  {
   "cell_type": "code",
   "execution_count": 5,
   "metadata": {},
   "outputs": [],
   "source": [
    "pre.create_all_folders(TRAIN_DATA_DIR, TRAIN_LABEL_DIR, TEST_DATA_DIR, TEST_LABEL_DIR)\n",
    "test_filenames = pre.create_images(f'{AMOS_DIR}/imagesTr', TRAIN_DATA_DIR, TEST_DATA_DIR, test_perc, get_all_files=get_all_files, get_filename_modality=get_filename_modality)\n",
    "pre.create_labels(test_filenames, f'{AMOS_DIR}/labelsTr', TRAIN_LABEL_DIR, TEST_LABEL_DIR, organ_labels.keys(),  get_all_files=get_all_files)\n",
    "pre.generate_dataset_json(True, \"AMOS\", TASK_DIR, task, modality, organ_labels_json, TRAIN_LABEL_DIR, TEST_LABEL_DIR)\n"
   ]
  }
 ],
 "metadata": {
  "interpreter": {
   "hash": "b125ce43c943fc1e14d9f62c3fffee4d275810a249a66947a8c399f2b69c2ea4"
  },
  "kernelspec": {
   "display_name": "Python 3.8.13 ('thesis')",
   "language": "python",
   "name": "python3"
  },
  "language_info": {
   "codemirror_mode": {
    "name": "ipython",
    "version": 3
   },
   "file_extension": ".py",
   "mimetype": "text/x-python",
   "name": "python",
   "nbconvert_exporter": "python",
   "pygments_lexer": "ipython3",
   "version": "3.8.13"
  },
  "orig_nbformat": 4
 },
 "nbformat": 4,
 "nbformat_minor": 2
}
