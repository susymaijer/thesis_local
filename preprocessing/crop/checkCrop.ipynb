{
 "cells": [
  {
   "attachments": {},
   "cell_type": "markdown",
   "metadata": {},
   "source": [
    "This notebook verifies that the cropping (performed in cropDataSet.ipynb) went correctly by checking whether the cropping did not remove any part of the pancreas."
   ]
  },
  {
   "cell_type": "code",
   "execution_count": 1,
   "metadata": {},
   "outputs": [],
   "source": [
    "import os\n",
    "import sys\n",
    "import numpy as np\n",
    "import pandas as pd\n",
    "from skimage.measure import *\n",
    "module_path = os.path.abspath(os.path.join('../..'))\n",
    "if module_path not in sys.path:\n",
    "    sys.path.append(module_path)\n",
    "from util import data\n",
    "from util import management as mana\n",
    "from util import constants as con\n",
    "\n",
    "# Set original task\n",
    "task = con.TASK_501"
   ]
  },
  {
   "cell_type": "markdown",
   "metadata": {},
   "source": [
    "Set some general variables that we'll need."
   ]
  },
  {
   "cell_type": "code",
   "execution_count": 2,
   "metadata": {},
   "outputs": [],
   "source": [
    "# get automatic mappings\n",
    "thesis_path = con.THESIS_PATH\n",
    "newTask = con.CROP_TASK_MAPPING[task]\n",
    "config = con.CONFIG_MAPPING[task]\n",
    "modality = con.MODALITY_MAPPING[task]\n",
    "\n",
    "# old task\n",
    "data_path = f\"{thesis_path}/Data/nnUNet_raw_data_base/nnUNet_raw_data/Task{task}\"\n",
    "img_tr_path = f'{data_path}/imagesTr'\n",
    "img_ts_path = f'{data_path}/imagesTs'\n",
    "label_tr_path = f'{data_path}/labelsTr'\n",
    "label_ts_path = f'{data_path}/labelsTs'\n",
    "segmentation_tr_path = f\"{thesis_path}/Results/{task}/{config}/inference/{task}/imagesTr\"\n",
    "segmentation_ts_path = f\"{thesis_path}/Results/{task}/{config}/inference/{task}/imagesTs\"\n",
    "\n",
    "# new task\n",
    "new_data_path = f\"{thesis_path}/Data/nnUNet_raw_data_base/nnUNet_raw_data/Task{newTask}\"\n",
    "new_img_tr_path = f'{new_data_path}/imagesTr'\n",
    "new_img_ts_path = f'{new_data_path}/imagesTs'\n",
    "new_label_tr_path = f'{new_data_path}/labelsTr'\n",
    "new_label_ts_path = f'{new_data_path}/labelsTs'\n",
    "\n",
    "# create new paths if they don't exist\n",
    "mana.create_maybe_dir(new_data_path)\n",
    "mana.create_maybe_dir(new_img_tr_path)\n",
    "mana.create_maybe_dir(new_img_ts_path)\n",
    "mana.create_maybe_dir(new_label_tr_path)\n",
    "mana.create_maybe_dir(new_label_ts_path)"
   ]
  },
  {
   "cell_type": "markdown",
   "metadata": {},
   "source": [
    "Define functions to compare labels"
   ]
  },
  {
   "cell_type": "code",
   "execution_count": 3,
   "metadata": {},
   "outputs": [],
   "source": [
    "def is_label_equal(l1, l2):\n",
    "    # sum all the ones in the label\n",
    "    suml1 = sum(sum(sum(l1)))\n",
    "    suml2 = sum(sum(sum(l2)))\n",
    "    assert suml1 == suml2, f\"Error because sum of labels not same: {suml1} {suml2} \"\n",
    "\n",
    "    # get image regions \n",
    "    regions1 = regionprops(l1)\n",
    "    regions2 = regionprops(l2)\n",
    "\n",
    "    # see if they have same amount of regions\n",
    "    assert len(regions1) == len(regions2), f\"Error because length not same: {len(regions1)} {len(regions2)}\"\n",
    "    for r1, r2 in zip(regions1, regions2):\n",
    "        a1 = r1.area\n",
    "        a2 = r2.area \n",
    "        assert a1 == a2, f\"Error because area is not the same: {a1} {a2}\"\n"
   ]
  },
  {
   "cell_type": "markdown",
   "metadata": {},
   "source": [
    "Load in data and check all labels."
   ]
  },
  {
   "cell_type": "code",
   "execution_count": 4,
   "metadata": {},
   "outputs": [],
   "source": [
    "for tstr in [con.TEST, con.TRAIN]:\n",
    "\n",
    "    # set paths\n",
    "    if tstr == con.TEST:\n",
    "        img_path = img_ts_path\n",
    "        new_img_path = new_img_ts_path\n",
    "        lab_path = label_ts_path\n",
    "        new_lab_path = new_label_ts_path\n",
    "        \n",
    "    # get all the training and testing data for this task\n",
    "    fnames, labs, _, _, _ = data.get_all_data_dictionary(img_path, lab_path, modality)\n",
    "    new_fnames, new_labs, _, _, _ = data.get_all_data_dictionary(new_img_path, new_lab_path, modality)\n",
    "\n",
    "    assert fnames == new_fnames, \"ERROR. Filenames are not the same!\"\n",
    "    for f in fnames:\n",
    "        is_label_equal(labs[f], new_labs[f])"
   ]
  }
 ],
 "metadata": {
  "interpreter": {
   "hash": "b125ce43c943fc1e14d9f62c3fffee4d275810a249a66947a8c399f2b69c2ea4"
  },
  "kernelspec": {
   "display_name": "Python 3.8.13 ('thesis')",
   "language": "python",
   "name": "python3"
  },
  "language_info": {
   "codemirror_mode": {
    "name": "ipython",
    "version": 3
   },
   "file_extension": ".py",
   "mimetype": "text/x-python",
   "name": "python",
   "nbconvert_exporter": "python",
   "pygments_lexer": "ipython3",
   "version": "3.8.13"
  },
  "orig_nbformat": 4
 },
 "nbformat": 4,
 "nbformat_minor": 2
}
