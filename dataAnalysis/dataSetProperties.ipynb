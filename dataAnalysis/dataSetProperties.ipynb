{
 "cells": [
  {
   "cell_type": "code",
   "execution_count": 4,
   "metadata": {},
   "outputs": [],
   "source": [
    "import os\n",
    "import sys \n",
    "import SimpleITK as sitk\n",
    "import nibabel as nib\n",
    "import numpy as np\n",
    "import pandas as pd\n",
    "module_path = os.path.abspath(os.path.join('..'))\n",
    "if module_path not in sys.path:\n",
    "    sys.path.append(module_path)\n",
    "\n",
    "from util import constants as con\n",
    "from util import management as mana\n",
    "from util import data\n",
    "\n",
    "# Fill in the task\n",
    "task = con.TASK_501"
   ]
  },
  {
   "cell_type": "code",
   "execution_count": 5,
   "metadata": {},
   "outputs": [],
   "source": [
    "data_path = f\"C:/Users/ikke_/OneDrive/Documenten/Thesis/Data/nnUNet_raw_data_base/nnUNet_raw_data/Task{task}\"\n",
    "ts_path = f'{data_path}/imagesTs'\n",
    "tr_path = f'{data_path}/imagesTr'\n",
    "ts_label_path = f'{data_path}/labelsTs'"
   ]
  },
  {
   "cell_type": "markdown",
   "metadata": {},
   "source": [
    "Get the mean spacing"
   ]
  },
  {
   "cell_type": "code",
   "execution_count": 6,
   "metadata": {},
   "outputs": [
    {
     "name": "stdout",
     "output_type": "stream",
     "text": [
      "Voxel_sizes x/y plane:\n",
      "\n",
      "               0\n",
      "count  80.000000\n",
      "mean    0.844947\n",
      "std     0.101685\n",
      "min     0.500000\n",
      "25%     0.781250\n",
      "50%     0.859375\n",
      "75%     0.937500\n",
      "max     0.976562\n",
      "\n",
      "Voxel_sizes z plane:\n",
      "\n",
      "               0\n",
      "count  80.000000\n",
      "mean    0.996606\n",
      "std     0.025085\n",
      "min     0.781250\n",
      "25%     1.000000\n",
      "50%     1.000000\n",
      "75%     1.000000\n",
      "max     1.000000\n",
      "\n",
      "Shapes x/y plane:\n",
      "\n",
      "           0\n",
      "count   80.0\n",
      "mean   512.0\n",
      "std      0.0\n",
      "min    512.0\n",
      "25%    512.0\n",
      "50%    512.0\n",
      "75%    512.0\n",
      "max    512.0\n",
      "\n",
      "Shapes z plane:\n",
      "\n",
      "           0\n",
      "count   80.0\n",
      "mean   512.0\n",
      "std      0.0\n",
      "min    512.0\n",
      "25%    512.0\n",
      "50%    512.0\n",
      "75%    512.0\n",
      "max    512.0\n"
     ]
    }
   ],
   "source": [
    "def append_voxel_sizes_shapes(voxel_sizes, shapes, img_path):\n",
    "    ''' get the voxel size and shape of all scans in a specific folder '''\n",
    "    for filename in os.listdir(img_path):\n",
    "        # load scan\n",
    "        filepath = img_path + \"/\"+ filename\n",
    "        nib_img = nib.load(filepath)\n",
    "\n",
    "        # save both voxel sizes and shape of scan\n",
    "        voxel_size = np.sort(np.unique(np.array(nib_img.header['pixdim'][1:4])))\n",
    "        voxel_sizes.append(voxel_size)\n",
    "        shapes.append(nib_img.shape)\n",
    "\n",
    "# Get voxel sizes and shapes for all data of a task (training + test)\n",
    "voxel_sizes = []\n",
    "shapes = []\n",
    "append_voxel_sizes_shapes(voxel_sizes, shapes, tr_path)\n",
    "append_voxel_sizes_shapes(voxel_sizes, shapes, ts_path)\n",
    "\n",
    "# Extract voxel-size and shapes seperately for x/y plane and z plane\n",
    "voxel_sizes_xy = np.array([v[0] for v in voxel_sizes])\n",
    "voxel_sizes_z = np.array([v[1] for v in voxel_sizes])\n",
    "shapes_xy = np.array([s[0] for s in shapes])\n",
    "shapes_z = np.array([s[1] for s in shapes])\n",
    "\n",
    "# Print the characteristics\n",
    "print(\"Voxel_sizes x/y plane:\")\n",
    "print(pd.DataFrame(voxel_sizes_xy).describe())\n",
    "print(\"\\nVoxel_sizes z plane:\")\n",
    "print(pd.DataFrame(voxel_sizes_z).describe())\n",
    "print(\"\\nShapes x/y plane:\")\n",
    "print(pd.DataFrame(shapes_xy).describe())\n",
    "print(\"\\nShapes z plane:\")\n",
    "print(pd.DataFrame(shapes_z).describe())"
   ]
  }
 ],
 "metadata": {
  "interpreter": {
   "hash": "b125ce43c943fc1e14d9f62c3fffee4d275810a249a66947a8c399f2b69c2ea4"
  },
  "kernelspec": {
   "display_name": "Python 3.8.13 ('thesis')",
   "language": "python",
   "name": "python3"
  },
  "language_info": {
   "codemirror_mode": {
    "name": "ipython",
    "version": 3
   },
   "file_extension": ".py",
   "mimetype": "text/x-python",
   "name": "python",
   "nbconvert_exporter": "python",
   "pygments_lexer": "ipython3",
   "version": "3.8.13"
  },
  "orig_nbformat": 4
 },
 "nbformat": 4,
 "nbformat_minor": 2
}
