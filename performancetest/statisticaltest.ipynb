{
 "cells": [
  {
   "attachments": {},
   "cell_type": "markdown",
   "id": "20711d8c",
   "metadata": {},
   "source": [
    "Perform statistical tests to see whether there is significant difference between node4 and node6"
   ]
  },
  {
   "cell_type": "code",
   "execution_count": null,
   "id": "eec81c05",
   "metadata": {},
   "outputs": [
    {
     "name": "stdout",
     "output_type": "stream",
     "text": [
      "0      103.675239\n",
      "1      101.890200\n",
      "2      102.522060\n",
      "3      101.240050\n",
      "4      102.036086\n",
      "          ...    \n",
      "107    101.500448\n",
      "108    100.506659\n",
      "109    102.760352\n",
      "110    101.026051\n",
      "111    104.029568\n",
      "Name: 5, Length: 112, dtype: float64\n",
      "0     121.957303\n",
      "1     102.630324\n",
      "2     103.756027\n",
      "3     105.354784\n",
      "4     103.099644\n",
      "5     105.069795\n",
      "6     104.788495\n",
      "7     106.304885\n",
      "8     104.264555\n",
      "9     104.024797\n",
      "10    107.238796\n",
      "11    106.780682\n",
      "12    104.243643\n",
      "13    105.119837\n",
      "14    103.044653\n",
      "15    103.103940\n",
      "16    103.512747\n",
      "17    105.991116\n",
      "18    104.911971\n",
      "19    106.896223\n",
      "20    105.137676\n",
      "21    103.503952\n",
      "22    103.117554\n",
      "23    104.853661\n",
      "24    104.227012\n",
      "25    103.357243\n",
      "26    104.144074\n",
      "27    106.896746\n",
      "28    106.139490\n",
      "29    105.891673\n",
      "30    112.774395\n",
      "31    110.457044\n",
      "32    103.446112\n",
      "Name: 5, dtype: float64\n"
     ]
    }
   ],
   "source": [
    "import pandas as pd\n",
    "from scipy import stats\n",
    "\n",
    "# Load in data training times\n",
    "normal = pd.read_csv(\"normal_train_times.txt\",delimiter=\" \", header=None).loc[:,5]\n",
    "tmp = pd.read_csv(\"tmp_train_times.txt\", delimiter=\" \", header = None).loc[:,5]\n",
    "\n",
    "# Print data and meean\n",
    "print(normal)\n",
    "print(tmp)\n",
    "print(normal.mean())\n",
    "print(tmp.mean())\n",
    "\n",
    "# Perform t-test\n",
    "scipy.stats.ttest_ind(normal, tmp)"
   ]
  },
  {
   "cell_type": "code",
   "execution_count": null,
   "id": "8de474de",
   "metadata": {},
   "outputs": [],
   "source": []
  }
 ],
 "metadata": {
  "kernelspec": {
   "display_name": "Python 3 (ipykernel)",
   "language": "python",
   "name": "python3"
  },
  "language_info": {
   "codemirror_mode": {
    "name": "ipython",
    "version": 3
   },
   "file_extension": ".py",
   "mimetype": "text/x-python",
   "name": "python",
   "nbconvert_exporter": "python",
   "pygments_lexer": "ipython3",
   "version": "3.8.13"
  }
 },
 "nbformat": 4,
 "nbformat_minor": 5
}
